{
  "cells": [
    {
      "cell_type": "markdown",
      "metadata": {
        "id": "view-in-github",
        "colab_type": "text"
      },
      "source": [
        "<a href=\"https://colab.research.google.com/github/Sardorbek-HUB/AI_Application/blob/main/AI_Application_Week7(1.5).ipynb\" target=\"_parent\"><img src=\"https://colab.research.google.com/assets/colab-badge.svg\" alt=\"Open In Colab\"/></a>"
      ]
    },
    {
      "cell_type": "code",
      "execution_count": 39,
      "metadata": {
        "id": "iloQJ3MARrQI"
      },
      "outputs": [],
      "source": [
        "# Import TensorFlow\n",
        "import tensorflow as tf\n",
        "# Build a Simple RNN model\n",
        "model = tf . keras . Sequential ([\n",
        "    tf . keras . layers . SimpleRNN (128 , activation ='relu',\n",
        "         input_shape =(28 , 28) ) ,\n",
        "    tf . keras . layers . Dense (10 , activation ='softmax')\n",
        "])"
      ]
    },
    {
      "cell_type": "code",
      "execution_count": 40,
      "metadata": {
        "id": "EARG3K-RRroB"
      },
      "outputs": [],
      "source": [
        "# Load the MNIST dataset\n",
        "mnist = tf . keras . datasets . mnist\n",
        "( train_images , train_labels ) , ( test_images , test_labels ) = mnist . load_data ()\n",
        "\n",
        "# Normalize the images\n",
        "train_images , test_images = train_images / 255.0 , test_images / 255.0"
      ]
    },
    {
      "cell_type": "code",
      "source": [
        "# Build another complex Simple RNN model\n",
        "model = tf . keras . Sequential ([\n",
        "    tf . keras . layers . SimpleRNN (128 , activation ='relu',\n",
        "         return_sequences = True , input_shape =(28 , 28) ) ,\n",
        "    tf . keras . layers . Dropout (0.2) ,\n",
        "    tf . keras . layers . SimpleRNN (64 , activation ='relu') ,\n",
        "    tf . keras . layers . Dense (10 , activation ='softmax')\n",
        "])"
      ],
      "metadata": {
        "id": "pY5eHWqedbU0"
      },
      "execution_count": 41,
      "outputs": []
    },
    {
      "cell_type": "code",
      "execution_count": 42,
      "metadata": {
        "id": "_vd0M_2fRy6C"
      },
      "outputs": [],
      "source": [
        "# Build a complex LSTM model\n",
        "model = tf . keras . Sequential ([\n",
        "    tf . keras . layers . LSTM (128 , activation ='relu',\n",
        "         return_sequences = True , input_shape =(28 , 28) ) ,\n",
        "    tf . keras . layers . Dropout (0.2) ,\n",
        "    tf . keras . layers . LSTM (64 , activation ='relu') ,\n",
        "    tf . keras . layers . Dense (10 , activation ='softmax')\n",
        "])"
      ]
    },
    {
      "cell_type": "code",
      "source": [
        "# Build a complex GRU model\n",
        "model = tf . keras . Sequential ([\n",
        "    tf . keras . layers . GRU (128 , activation ='relu',\n",
        "         return_sequences = True , input_shape =(28 , 28) ) ,\n",
        "tf . keras . layers . Dropout (0.2) ,\n",
        "tf . keras . layers . GRU (64 , activation ='relu') ,\n",
        "tf . keras . layers . Dense (10 , activation ='softmax')\n",
        "])"
      ],
      "metadata": {
        "id": "H1wV88sRdRI7"
      },
      "execution_count": 43,
      "outputs": []
    },
    {
      "cell_type": "code",
      "execution_count": 44,
      "metadata": {
        "id": "bEXNDMuHR-6x"
      },
      "outputs": [],
      "source": [
        "# Compile the model\n",
        "model . compile ( optimizer ='adam',\n",
        "                 loss ='sparse_categorical_crossentropy',\n",
        "                 metrics =[ 'accuracy' ])"
      ]
    },
    {
      "cell_type": "code",
      "execution_count": 45,
      "metadata": {
        "colab": {
          "base_uri": "https://localhost:8080/"
        },
        "id": "FZU0EoC7SE_w",
        "outputId": "cc54349f-02b9-4473-9d57-2c8023b68248"
      },
      "outputs": [
        {
          "output_type": "stream",
          "name": "stdout",
          "text": [
            "Epoch 1/5\n",
            "1875/1875 [==============================] - 79s 41ms/step - loss: 0.3288 - accuracy: 0.8911\n",
            "Epoch 2/5\n",
            "1875/1875 [==============================] - 76s 41ms/step - loss: 0.0878 - accuracy: 0.9728\n",
            "Epoch 3/5\n",
            "1875/1875 [==============================] - 75s 40ms/step - loss: 0.0620 - accuracy: 0.9805\n",
            "Epoch 4/5\n",
            "1875/1875 [==============================] - 75s 40ms/step - loss: 0.0496 - accuracy: 0.9846\n",
            "Epoch 5/5\n",
            "1875/1875 [==============================] - 74s 40ms/step - loss: 0.0430 - accuracy: 0.9864\n"
          ]
        },
        {
          "output_type": "execute_result",
          "data": {
            "text/plain": [
              "<keras.src.callbacks.History at 0x7dfaf3a8e3b0>"
            ]
          },
          "metadata": {},
          "execution_count": 45
        }
      ],
      "source": [
        "# Train the model\n",
        "model . fit ( train_images , train_labels , epochs =5)"
      ]
    },
    {
      "cell_type": "code",
      "execution_count": 46,
      "metadata": {
        "id": "4Ewvzj3cSL3Y",
        "colab": {
          "base_uri": "https://localhost:8080/"
        },
        "outputId": "634ff0aa-633b-4320-debc-85b33c91e400"
      },
      "outputs": [
        {
          "output_type": "stream",
          "name": "stdout",
          "text": [
            "313/313 [==============================] - 4s 12ms/step - loss: 0.0472 - accuracy: 0.9861\n"
          ]
        }
      ],
      "source": [
        "# Evaluate the model\n",
        "test_loss , test_acc = model . evaluate ( test_images , test_labels)"
      ]
    },
    {
      "cell_type": "code",
      "execution_count": 47,
      "metadata": {
        "id": "l8_A90PZSOjp"
      },
      "outputs": [],
      "source": [
        "# Save the model\n",
        "model.save('my_model.keras')"
      ]
    },
    {
      "cell_type": "code",
      "execution_count": 48,
      "metadata": {
        "id": "eE_TP9eRSSGK"
      },
      "outputs": [],
      "source": [
        "# Load the saved model\n",
        "loaded_model = tf . keras . models . load_model ( 'my_model.keras' )"
      ]
    }
  ],
  "metadata": {
    "colab": {
      "provenance": [],
      "authorship_tag": "ABX9TyMnaf1nGvuu49ExWEy98rHW",
      "include_colab_link": true
    },
    "kernelspec": {
      "display_name": "Python 3",
      "name": "python3"
    },
    "language_info": {
      "name": "python"
    }
  },
  "nbformat": 4,
  "nbformat_minor": 0
}