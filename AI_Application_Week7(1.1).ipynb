{
  "cells": [
    {
      "cell_type": "markdown",
      "metadata": {
        "id": "view-in-github",
        "colab_type": "text"
      },
      "source": [
        "<a href=\"https://colab.research.google.com/github/Sardorbek-HUB/AI_Application/blob/main/AI_Application_Week7(1.1).ipynb\" target=\"_parent\"><img src=\"https://colab.research.google.com/assets/colab-badge.svg\" alt=\"Open In Colab\"/></a>"
      ]
    },
    {
      "cell_type": "code",
      "execution_count": null,
      "metadata": {
        "id": "iloQJ3MARrQI"
      },
      "outputs": [],
      "source": [
        "# Import TensorFlow\n",
        "import tensorflow as tf\n",
        "# Build a Simple RNN model\n",
        "model = tf . keras . Sequential ([\n",
        "    tf . keras . layers . SimpleRNN (128 , activation ='relu',\n",
        "         input_shape =(28 , 28) ) ,\n",
        "    tf . keras . layers . Dense (10 , activation ='softmax')\n",
        "])"
      ]
    },
    {
      "cell_type": "code",
      "execution_count": null,
      "metadata": {
        "id": "EARG3K-RRroB"
      },
      "outputs": [],
      "source": [
        "# Load the MNIST dataset\n",
        "mnist = tf . keras . datasets . mnist\n",
        "( train_images , train_labels ) , ( test_images , test_labels ) = mnist . load_data ()\n",
        "\n",
        "# Normalize the images\n",
        "train_images , test_images = train_images / 255.0 , test_images / 255.0"
      ]
    },
    {
      "cell_type": "code",
      "execution_count": null,
      "metadata": {
        "id": "_vd0M_2fRy6C"
      },
      "outputs": [],
      "source": [
        "# Build a more complex LSTM model\n",
        "model = tf . keras . Sequential ([\n",
        "    tf . keras . layers . LSTM (128 , activation ='relu',\n",
        "         return_sequences = True , input_shape =(28 , 28) ) ,\n",
        "    tf . keras . layers . LSTM (64 , activation ='relu') ,\n",
        "    tf . keras . layers . Dense (10 , activation ='softmax')\n",
        "])"
      ]
    },
    {
      "cell_type": "code",
      "execution_count": null,
      "metadata": {
        "id": "bEXNDMuHR-6x"
      },
      "outputs": [],
      "source": [
        "# Compile the model\n",
        "model . compile ( optimizer ='adam',\n",
        "                 loss ='sparse_categorical_crossentropy',\n",
        "                 metrics =[ 'accuracy' ])"
      ]
    },
    {
      "cell_type": "code",
      "execution_count": null,
      "metadata": {
        "colab": {
          "background_save": true,
          "base_uri": "https://localhost:8080/"
        },
        "id": "FZU0EoC7SE_w",
        "outputId": "62e0c757-6589-4601-e228-6a6e10f45d6f"
      },
      "outputs": [
        {
          "name": "stdout",
          "output_type": "stream",
          "text": [
            "Epoch 1/5\n",
            "1875/1875 [==============================] - 104s 54ms/step - loss: 0.4463 - accuracy: 0.8544\n",
            "Epoch 2/5\n",
            "1875/1875 [==============================] - 98s 52ms/step - loss: 0.1088 - accuracy: 0.9673\n",
            "Epoch 3/5\n",
            "1875/1875 [==============================] - 99s 53ms/step - loss: 0.0748 - accuracy: 0.9772\n",
            "Epoch 4/5\n",
            "1875/1875 [==============================] - 100s 53ms/step - loss: 0.0590 - accuracy: 0.9825\n",
            "Epoch 5/5\n",
            "1875/1875 [==============================] - 98s 52ms/step - loss: 0.0470 - accuracy: 0.9865\n"
          ]
        },
        {
          "data": {
            "text/plain": [
              "<keras.src.callbacks.History at 0x7dfafc2bcbe0>"
            ]
          },
          "execution_count": 15,
          "metadata": {},
          "output_type": "execute_result"
        }
      ],
      "source": [
        "# Train the model\n",
        "model . fit ( train_images , train_labels , epochs =5)"
      ]
    },
    {
      "cell_type": "code",
      "execution_count": 16,
      "metadata": {
        "id": "4Ewvzj3cSL3Y",
        "colab": {
          "base_uri": "https://localhost:8080/"
        },
        "outputId": "8fe74a3e-73ed-4805-dc71-c8b53e037896"
      },
      "outputs": [
        {
          "output_type": "stream",
          "name": "stdout",
          "text": [
            "313/313 [==============================] - 13s 40ms/step - loss: 0.0646 - accuracy: 0.9808\n"
          ]
        }
      ],
      "source": [
        "# Evaluate the model\n",
        "test_loss , test_acc = model . evaluate ( test_images , test_labels)"
      ]
    },
    {
      "cell_type": "code",
      "execution_count": 18,
      "metadata": {
        "id": "l8_A90PZSOjp"
      },
      "outputs": [],
      "source": [
        "# Save the model\n",
        "model.save('my_model.keras')"
      ]
    },
    {
      "cell_type": "code",
      "execution_count": 19,
      "metadata": {
        "id": "eE_TP9eRSSGK"
      },
      "outputs": [],
      "source": [
        "# Load the saved model\n",
        "loaded_model = tf . keras . models . load_model ( 'my_model.keras' )"
      ]
    }
  ],
  "metadata": {
    "colab": {
      "provenance": [],
      "authorship_tag": "ABX9TyPlJeKcIekIr7KE5HWb2W4e",
      "include_colab_link": true
    },
    "kernelspec": {
      "display_name": "Python 3",
      "name": "python3"
    },
    "language_info": {
      "name": "python"
    }
  },
  "nbformat": 4,
  "nbformat_minor": 0
}