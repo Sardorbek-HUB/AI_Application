{
  "cells": [
    {
      "cell_type": "markdown",
      "metadata": {
        "id": "view-in-github",
        "colab_type": "text"
      },
      "source": [
        "<a href=\"https://colab.research.google.com/github/Sardorbek-HUB/AI_Application/blob/main/AI_Application_Week7(1.4).ipynb\" target=\"_parent\"><img src=\"https://colab.research.google.com/assets/colab-badge.svg\" alt=\"Open In Colab\"/></a>"
      ]
    },
    {
      "cell_type": "code",
      "execution_count": 49,
      "metadata": {
        "id": "iloQJ3MARrQI"
      },
      "outputs": [],
      "source": [
        "# Import TensorFlow\n",
        "import tensorflow as tf\n",
        "# Build a Simple RNN model\n",
        "model = tf . keras . Sequential ([\n",
        "    tf . keras . layers . SimpleRNN (128 , activation ='relu',\n",
        "         input_shape =(28 , 28) ) ,\n",
        "    tf . keras . layers . Dense (10 , activation ='softmax')\n",
        "])"
      ]
    },
    {
      "cell_type": "code",
      "execution_count": 50,
      "metadata": {
        "id": "EARG3K-RRroB"
      },
      "outputs": [],
      "source": [
        "# Load the MNIST dataset\n",
        "mnist = tf . keras . datasets . mnist\n",
        "( train_images , train_labels ) , ( test_images , test_labels ) = mnist . load_data ()\n",
        "\n",
        "# Normalize the images\n",
        "train_images , test_images = train_images / 255.0 , test_images / 255.0"
      ]
    },
    {
      "cell_type": "code",
      "execution_count": 51,
      "metadata": {
        "id": "_vd0M_2fRy6C"
      },
      "outputs": [],
      "source": [
        "# Build an LSTM model\n",
        "model = tf . keras . Sequential ([\n",
        "    tf . keras . layers . LSTM (128 , activation ='relu', input_shape\n",
        "         =(28 , 28) ) ,\n",
        "    tf . keras . layers . Dense (10 , activation ='softmax')\n",
        "])"
      ]
    },
    {
      "cell_type": "code",
      "source": [
        "# Build a GRU model\n",
        "model = tf . keras . Sequential ([\n",
        "    tf . keras . layers . GRU (128 , activation ='relu', input_shape\n",
        "         =(28 , 28) ) ,\n",
        "    tf . keras . layers . Dense (10 , activation ='softmax')\n",
        "])"
      ],
      "metadata": {
        "id": "H1wV88sRdRI7"
      },
      "execution_count": 52,
      "outputs": []
    },
    {
      "cell_type": "code",
      "execution_count": 53,
      "metadata": {
        "id": "bEXNDMuHR-6x"
      },
      "outputs": [],
      "source": [
        "# Compile the model\n",
        "model . compile ( optimizer ='adam',\n",
        "                 loss ='sparse_categorical_crossentropy',\n",
        "                 metrics =[ 'accuracy' ])"
      ]
    },
    {
      "cell_type": "code",
      "execution_count": 54,
      "metadata": {
        "colab": {
          "base_uri": "https://localhost:8080/"
        },
        "id": "FZU0EoC7SE_w",
        "outputId": "e50408d6-1de5-4f52-b0fe-074addab30ae"
      },
      "outputs": [
        {
          "output_type": "stream",
          "name": "stdout",
          "text": [
            "Epoch 1/5\n",
            "1875/1875 [==============================] - 46s 24ms/step - loss: 0.3417 - accuracy: 0.8849\n",
            "Epoch 2/5\n",
            "1875/1875 [==============================] - 44s 24ms/step - loss: 0.0954 - accuracy: 0.9706\n",
            "Epoch 3/5\n",
            "1875/1875 [==============================] - 45s 24ms/step - loss: 0.0681 - accuracy: 0.9797\n",
            "Epoch 4/5\n",
            "1875/1875 [==============================] - 45s 24ms/step - loss: 0.0539 - accuracy: 0.9836\n",
            "Epoch 5/5\n",
            "1875/1875 [==============================] - 44s 23ms/step - loss: 0.0442 - accuracy: 0.9864\n"
          ]
        },
        {
          "output_type": "execute_result",
          "data": {
            "text/plain": [
              "<keras.src.callbacks.History at 0x7dfaf02c8fd0>"
            ]
          },
          "metadata": {},
          "execution_count": 54
        }
      ],
      "source": [
        "# Train the model\n",
        "model . fit ( train_images , train_labels , epochs =5)"
      ]
    },
    {
      "cell_type": "code",
      "execution_count": 55,
      "metadata": {
        "id": "4Ewvzj3cSL3Y",
        "colab": {
          "base_uri": "https://localhost:8080/"
        },
        "outputId": "c0588e54-9558-4476-d919-532af0126b31"
      },
      "outputs": [
        {
          "output_type": "stream",
          "name": "stdout",
          "text": [
            "313/313 [==============================] - 3s 9ms/step - loss: 0.0542 - accuracy: 0.9837\n"
          ]
        }
      ],
      "source": [
        "# Evaluate the model\n",
        "test_loss , test_acc = model . evaluate ( test_images , test_labels)"
      ]
    },
    {
      "cell_type": "code",
      "execution_count": 56,
      "metadata": {
        "id": "l8_A90PZSOjp"
      },
      "outputs": [],
      "source": [
        "# Save the model\n",
        "model.save('my_model.keras')"
      ]
    },
    {
      "cell_type": "code",
      "execution_count": 57,
      "metadata": {
        "id": "eE_TP9eRSSGK"
      },
      "outputs": [],
      "source": [
        "# Load the saved model\n",
        "loaded_model = tf . keras . models . load_model ( 'my_model.keras' )"
      ]
    }
  ],
  "metadata": {
    "colab": {
      "provenance": [],
      "authorship_tag": "ABX9TyP3Mxw55Idl3X3K+vOKhwfV",
      "include_colab_link": true
    },
    "kernelspec": {
      "display_name": "Python 3",
      "name": "python3"
    },
    "language_info": {
      "name": "python"
    }
  },
  "nbformat": 4,
  "nbformat_minor": 0
}