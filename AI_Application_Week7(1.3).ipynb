{
  "cells": [
    {
      "cell_type": "markdown",
      "metadata": {
        "id": "view-in-github",
        "colab_type": "text"
      },
      "source": [
        "<a href=\"https://colab.research.google.com/github/Sardorbek-HUB/AI_Application/blob/main/AI_Application_Week7(1.3).ipynb\" target=\"_parent\"><img src=\"https://colab.research.google.com/assets/colab-badge.svg\" alt=\"Open In Colab\"/></a>"
      ]
    },
    {
      "cell_type": "code",
      "execution_count": 28,
      "metadata": {
        "id": "iloQJ3MARrQI"
      },
      "outputs": [],
      "source": [
        "# Import TensorFlow\n",
        "import tensorflow as tf\n",
        "# Build a Simple RNN model\n",
        "model = tf . keras . Sequential ([\n",
        "    tf . keras . layers . SimpleRNN (128 , activation ='relu',\n",
        "         input_shape =(28 , 28) ) ,\n",
        "    tf . keras . layers . Dense (10 , activation ='softmax')\n",
        "])"
      ]
    },
    {
      "cell_type": "code",
      "execution_count": 29,
      "metadata": {
        "id": "EARG3K-RRroB"
      },
      "outputs": [],
      "source": [
        "# Load the MNIST dataset\n",
        "mnist = tf . keras . datasets . mnist\n",
        "( train_images , train_labels ) , ( test_images , test_labels ) = mnist . load_data ()\n",
        "\n",
        "# Normalize the images\n",
        "train_images , test_images = train_images / 255.0 , test_images / 255.0"
      ]
    },
    {
      "cell_type": "code",
      "source": [
        "# Build an LSTM model\n",
        "model = tf . keras . Sequential ([\n",
        "    tf . keras . layers . LSTM (128 , activation ='relu', input_shape\n",
        "         =(28 , 28) ) ,\n",
        "    tf . keras . layers . Dense (10 , activation ='softmax')\n",
        "])"
      ],
      "metadata": {
        "id": "z5Jpdg0WZ_Su"
      },
      "execution_count": 30,
      "outputs": []
    },
    {
      "cell_type": "code",
      "execution_count": 31,
      "metadata": {
        "id": "_vd0M_2fRy6C"
      },
      "outputs": [],
      "source": [
        "# Build a more complex LSTM model\n",
        "model = tf . keras . Sequential ([\n",
        "    tf . keras . layers . LSTM (128 , activation ='relu',\n",
        "         return_sequences = True , input_shape =(28 , 28) ) ,\n",
        "    tf . keras . layers . LSTM (64 , activation ='relu') ,\n",
        "    tf . keras . layers . Dense (10 , activation ='softmax')\n",
        "])"
      ]
    },
    {
      "cell_type": "code",
      "execution_count": 32,
      "metadata": {
        "id": "bEXNDMuHR-6x"
      },
      "outputs": [],
      "source": [
        "# Compile the model\n",
        "model . compile ( optimizer ='adam',\n",
        "                 loss ='sparse_categorical_crossentropy',\n",
        "                 metrics =[ 'accuracy' ])"
      ]
    },
    {
      "cell_type": "code",
      "execution_count": 33,
      "metadata": {
        "colab": {
          "base_uri": "https://localhost:8080/"
        },
        "id": "FZU0EoC7SE_w",
        "outputId": "e3263aad-d4d5-48fa-e00e-07ed1ec99dfb"
      },
      "outputs": [
        {
          "output_type": "stream",
          "name": "stdout",
          "text": [
            "Epoch 1/5\n",
            "1875/1875 [==============================] - 98s 51ms/step - loss: 0.4057 - accuracy: 0.8682\n",
            "Epoch 2/5\n",
            "1875/1875 [==============================] - 103s 55ms/step - loss: 0.1084 - accuracy: 0.9667\n",
            "Epoch 3/5\n",
            "1875/1875 [==============================] - 96s 51ms/step - loss: 0.0784 - accuracy: 0.9761\n",
            "Epoch 4/5\n",
            "1875/1875 [==============================] - 99s 53ms/step - loss: 0.0600 - accuracy: 0.9814\n",
            "Epoch 5/5\n",
            "1875/1875 [==============================] - 96s 51ms/step - loss: 0.0477 - accuracy: 0.9851\n"
          ]
        },
        {
          "output_type": "execute_result",
          "data": {
            "text/plain": [
              "<keras.src.callbacks.History at 0x7dfafe511030>"
            ]
          },
          "metadata": {},
          "execution_count": 33
        }
      ],
      "source": [
        "# Train the model\n",
        "model . fit ( train_images , train_labels , epochs =5)"
      ]
    },
    {
      "cell_type": "code",
      "execution_count": 34,
      "metadata": {
        "id": "4Ewvzj3cSL3Y",
        "colab": {
          "base_uri": "https://localhost:8080/"
        },
        "outputId": "d2b39502-06c1-4c94-dbb8-01e9cec61d86"
      },
      "outputs": [
        {
          "output_type": "stream",
          "name": "stdout",
          "text": [
            "313/313 [==============================] - 7s 21ms/step - loss: 0.0447 - accuracy: 0.9844\n"
          ]
        }
      ],
      "source": [
        "# Evaluate the model\n",
        "test_loss , test_acc = model . evaluate ( test_images , test_labels)"
      ]
    },
    {
      "cell_type": "code",
      "execution_count": 35,
      "metadata": {
        "id": "l8_A90PZSOjp"
      },
      "outputs": [],
      "source": [
        "# Save the model\n",
        "model.save('my_model.keras')"
      ]
    },
    {
      "cell_type": "code",
      "execution_count": 36,
      "metadata": {
        "id": "eE_TP9eRSSGK"
      },
      "outputs": [],
      "source": [
        "# Load the saved model\n",
        "loaded_model = tf . keras . models . load_model ( 'my_model.keras' )"
      ]
    }
  ],
  "metadata": {
    "colab": {
      "provenance": [],
      "authorship_tag": "ABX9TyM4rCT1YimcW04lDV2YqrJR",
      "include_colab_link": true
    },
    "kernelspec": {
      "display_name": "Python 3",
      "name": "python3"
    },
    "language_info": {
      "name": "python"
    }
  },
  "nbformat": 4,
  "nbformat_minor": 0
}