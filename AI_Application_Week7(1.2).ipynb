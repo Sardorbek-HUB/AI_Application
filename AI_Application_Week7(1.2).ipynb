{
  "cells": [
    {
      "cell_type": "markdown",
      "metadata": {
        "id": "view-in-github",
        "colab_type": "text"
      },
      "source": [
        "<a href=\"https://colab.research.google.com/github/Sardorbek-HUB/AI_Application/blob/main/AI_Application_Week7(1.2).ipynb\" target=\"_parent\"><img src=\"https://colab.research.google.com/assets/colab-badge.svg\" alt=\"Open In Colab\"/></a>"
      ]
    },
    {
      "cell_type": "code",
      "execution_count": 20,
      "metadata": {
        "id": "iloQJ3MARrQI"
      },
      "outputs": [],
      "source": [
        "# Import TensorFlow\n",
        "import tensorflow as tf\n",
        "# Build a Simple RNN model\n",
        "model = tf . keras . Sequential ([\n",
        "    tf . keras . layers . SimpleRNN (128 , activation ='relu',\n",
        "         input_shape =(28 , 28) ) ,\n",
        "    tf . keras . layers . Dense (10 , activation ='softmax')\n",
        "])"
      ]
    },
    {
      "cell_type": "code",
      "execution_count": 21,
      "metadata": {
        "id": "EARG3K-RRroB"
      },
      "outputs": [],
      "source": [
        "# Load the MNIST dataset\n",
        "mnist = tf . keras . datasets . mnist\n",
        "( train_images , train_labels ) , ( test_images , test_labels ) = mnist . load_data ()\n",
        "\n",
        "# Normalize the images\n",
        "train_images , test_images = train_images / 255.0 , test_images / 255.0"
      ]
    },
    {
      "cell_type": "code",
      "execution_count": 22,
      "metadata": {
        "id": "_vd0M_2fRy6C"
      },
      "outputs": [],
      "source": [
        "# Build another complex Simple RNN model\n",
        "model = tf . keras . Sequential ([\n",
        "    tf . keras . layers . SimpleRNN (128 , activation ='relu',\n",
        "         return_sequences = True , input_shape =(28 , 28) ) ,\n",
        "    tf . keras . layers . Dropout (0.2) ,\n",
        "    tf . keras . layers . SimpleRNN (64 , activation ='relu') ,\n",
        "    tf . keras . layers . Dense (10 , activation ='softmax')\n",
        "])"
      ]
    },
    {
      "cell_type": "code",
      "execution_count": 23,
      "metadata": {
        "id": "bEXNDMuHR-6x"
      },
      "outputs": [],
      "source": [
        "# Compile the model\n",
        "model . compile ( optimizer ='adam',\n",
        "                 loss ='sparse_categorical_crossentropy',\n",
        "                 metrics =[ 'accuracy' ])"
      ]
    },
    {
      "cell_type": "code",
      "execution_count": 24,
      "metadata": {
        "colab": {
          "base_uri": "https://localhost:8080/"
        },
        "id": "FZU0EoC7SE_w",
        "outputId": "947f5f9d-c61e-4849-e520-5743b2ba348f"
      },
      "outputs": [
        {
          "output_type": "stream",
          "name": "stdout",
          "text": [
            "Epoch 1/5\n",
            "1875/1875 [==============================] - 38s 19ms/step - loss: 0.3898 - accuracy: 0.8761\n",
            "Epoch 2/5\n",
            "1875/1875 [==============================] - 36s 19ms/step - loss: 0.1597 - accuracy: 0.9533\n",
            "Epoch 3/5\n",
            "1875/1875 [==============================] - 35s 19ms/step - loss: 0.1281 - accuracy: 0.9627\n",
            "Epoch 4/5\n",
            "1875/1875 [==============================] - 34s 18ms/step - loss: 0.1087 - accuracy: 0.9685\n",
            "Epoch 5/5\n",
            "1875/1875 [==============================] - 38s 20ms/step - loss: 0.1039 - accuracy: 0.9702\n"
          ]
        },
        {
          "output_type": "execute_result",
          "data": {
            "text/plain": [
              "<keras.src.callbacks.History at 0x7dfafcb64730>"
            ]
          },
          "metadata": {},
          "execution_count": 24
        }
      ],
      "source": [
        "# Train the model\n",
        "model . fit ( train_images , train_labels , epochs =5)"
      ]
    },
    {
      "cell_type": "code",
      "execution_count": 25,
      "metadata": {
        "id": "4Ewvzj3cSL3Y",
        "colab": {
          "base_uri": "https://localhost:8080/"
        },
        "outputId": "db59ca83-b25b-4352-dabd-9c37f6dfe765"
      },
      "outputs": [
        {
          "output_type": "stream",
          "name": "stdout",
          "text": [
            "313/313 [==============================] - 2s 6ms/step - loss: 0.0950 - accuracy: 0.9734\n"
          ]
        }
      ],
      "source": [
        "# Evaluate the model\n",
        "test_loss , test_acc = model . evaluate ( test_images , test_labels)"
      ]
    },
    {
      "cell_type": "code",
      "execution_count": 26,
      "metadata": {
        "id": "l8_A90PZSOjp"
      },
      "outputs": [],
      "source": [
        "# Save the model\n",
        "model.save('my_model.keras')"
      ]
    },
    {
      "cell_type": "code",
      "execution_count": 27,
      "metadata": {
        "id": "eE_TP9eRSSGK"
      },
      "outputs": [],
      "source": [
        "# Load the saved model\n",
        "loaded_model = tf . keras . models . load_model ( 'my_model.keras' )"
      ]
    }
  ],
  "metadata": {
    "colab": {
      "provenance": [],
      "authorship_tag": "ABX9TyOlMWEYp9ONhfOVboWpPNTC",
      "include_colab_link": true
    },
    "kernelspec": {
      "display_name": "Python 3",
      "name": "python3"
    },
    "language_info": {
      "name": "python"
    }
  },
  "nbformat": 4,
  "nbformat_minor": 0
}